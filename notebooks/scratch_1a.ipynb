version https://git-lfs.github.com/spec/v1
oid sha256:ed393d4fc65d3bb399a9cef39dbe129debc8df6cb443b52b4bd13d94d3be1e29
size 50373
